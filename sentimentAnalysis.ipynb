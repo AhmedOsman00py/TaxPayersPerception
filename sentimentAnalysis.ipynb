{
 "cells": [
  {
   "cell_type": "code",
   "execution_count": 2,
   "metadata": {
    "collapsed": true
   },
   "outputs": [
    {
     "name": "stderr",
     "output_type": "stream",
     "text": [
      "[nltk_data] Downloading package vader_lexicon to\n",
      "[nltk_data]     /Users/ahmedosman/nltk_data...\n",
      "[nltk_data]   Package vader_lexicon is already up-to-date!\n"
     ]
    },
    {
     "data": {
      "text/plain": "True"
     },
     "execution_count": 1,
     "metadata": {},
     "output_type": "execute_result"
    },
    {
     "name": "stderr",
     "output_type": "stream",
     "text": [
      "[nltk_data] Downloading package vader_lexicon to\n",
      "[nltk_data]     /Users/ahmedosman/nltk_data...\n",
      "[nltk_data]   Package vader_lexicon is already up-to-date!\n"
     ]
    }
   ],
   "source": [
    "import pandas as pd\n",
    "import nltk\n",
    "from nltk.sentiment.vader import SentimentIntensityAnalyzer\n",
    "nltk.download('vader_lexicon')\n",
    "\n",
    "vader = SentimentIntensityAnalyzer()"
   ]
  },
  {
   "cell_type": "code",
   "execution_count": 21,
   "outputs": [
    {
     "data": {
      "text/plain": "   statename  gender  educ  partyid  \\\n0  Wisconsin       2   2.0      4.0   \n1     Kansas       2   5.0      4.0   \n2       Ohio       2   2.0      2.0   \n3      Texas       1   5.0      5.0   \n4   New York       2   2.0      NaN   \n\n                                        firstthought  taxpayer  percenttp  \\\n0                   Paying money to to the goverment         1       50.0   \n1  fees that you pay to government for their use ...         1       71.0   \n2   An expense people in the U.S. are forced to pay.         1      100.0   \n3  Internal revenue services in receiving my in F...         1       39.0   \n4  money that comes out of your income to cover c...         1       60.0   \n\n                                              recent  \\\n0  Two days ago when purchasing items from a store.    \n1          gas tax when I filled up my car yesterday   \n2       Yesterday when making a purchase at a store.   \n3    It was 8 years ago that I last pay income tax..   \n4                 sales tax when purchasing clothing   \n\n                                              tpfeel  \\\n0  It's part of life so I don't have a problem wi...   \n1  it feels okay for the most part, although I do...   \n2  Does anyone feel great about being a taxpayer?...   \n3   It is a lonely feeling that I have to pay taxes.   \n4                                  necessary expense   \n\n                                             biggest  ...  polknow1 polknow2  \\\n0  I would have to say monthly purchases of none ...  ...         4        4   \n1                personal property taxes on vehicles  ...         2        1   \n2  Estimated state and federal taxes, paid quarte...  ...         2        2   \n3       It seem that I pay over 20% on income taxes.  ...         4        4   \n4                                    sales, utilitiy  ...         3        3   \n\n   polkno3 marital ownhome stateresid yearbirth  raceeth hhinc  weightvec  \n0        3       5       3         50        46      1.0   9.0   0.984578  \n1        3       1       1         17        44      1.0  14.0   1.154112  \n2        6       1       1         36        21      1.0  17.0   1.624211  \n3        3       3       1         44        19      2.0   2.0   0.876566  \n4        1       2       3         33        15      NaN   NaN   1.927818  \n\n[5 rows x 42 columns]",
      "text/html": "<div>\n<style scoped>\n    .dataframe tbody tr th:only-of-type {\n        vertical-align: middle;\n    }\n\n    .dataframe tbody tr th {\n        vertical-align: top;\n    }\n\n    .dataframe thead th {\n        text-align: right;\n    }\n</style>\n<table border=\"1\" class=\"dataframe\">\n  <thead>\n    <tr style=\"text-align: right;\">\n      <th></th>\n      <th>statename</th>\n      <th>gender</th>\n      <th>educ</th>\n      <th>partyid</th>\n      <th>firstthought</th>\n      <th>taxpayer</th>\n      <th>percenttp</th>\n      <th>recent</th>\n      <th>tpfeel</th>\n      <th>biggest</th>\n      <th>...</th>\n      <th>polknow1</th>\n      <th>polknow2</th>\n      <th>polkno3</th>\n      <th>marital</th>\n      <th>ownhome</th>\n      <th>stateresid</th>\n      <th>yearbirth</th>\n      <th>raceeth</th>\n      <th>hhinc</th>\n      <th>weightvec</th>\n    </tr>\n  </thead>\n  <tbody>\n    <tr>\n      <th>0</th>\n      <td>Wisconsin</td>\n      <td>2</td>\n      <td>2.0</td>\n      <td>4.0</td>\n      <td>Paying money to to the goverment</td>\n      <td>1</td>\n      <td>50.0</td>\n      <td>Two days ago when purchasing items from a store.</td>\n      <td>It's part of life so I don't have a problem wi...</td>\n      <td>I would have to say monthly purchases of none ...</td>\n      <td>...</td>\n      <td>4</td>\n      <td>4</td>\n      <td>3</td>\n      <td>5</td>\n      <td>3</td>\n      <td>50</td>\n      <td>46</td>\n      <td>1.0</td>\n      <td>9.0</td>\n      <td>0.984578</td>\n    </tr>\n    <tr>\n      <th>1</th>\n      <td>Kansas</td>\n      <td>2</td>\n      <td>5.0</td>\n      <td>4.0</td>\n      <td>fees that you pay to government for their use ...</td>\n      <td>1</td>\n      <td>71.0</td>\n      <td>gas tax when I filled up my car yesterday</td>\n      <td>it feels okay for the most part, although I do...</td>\n      <td>personal property taxes on vehicles</td>\n      <td>...</td>\n      <td>2</td>\n      <td>1</td>\n      <td>3</td>\n      <td>1</td>\n      <td>1</td>\n      <td>17</td>\n      <td>44</td>\n      <td>1.0</td>\n      <td>14.0</td>\n      <td>1.154112</td>\n    </tr>\n    <tr>\n      <th>2</th>\n      <td>Ohio</td>\n      <td>2</td>\n      <td>2.0</td>\n      <td>2.0</td>\n      <td>An expense people in the U.S. are forced to pay.</td>\n      <td>1</td>\n      <td>100.0</td>\n      <td>Yesterday when making a purchase at a store.</td>\n      <td>Does anyone feel great about being a taxpayer?...</td>\n      <td>Estimated state and federal taxes, paid quarte...</td>\n      <td>...</td>\n      <td>2</td>\n      <td>2</td>\n      <td>6</td>\n      <td>1</td>\n      <td>1</td>\n      <td>36</td>\n      <td>21</td>\n      <td>1.0</td>\n      <td>17.0</td>\n      <td>1.624211</td>\n    </tr>\n    <tr>\n      <th>3</th>\n      <td>Texas</td>\n      <td>1</td>\n      <td>5.0</td>\n      <td>5.0</td>\n      <td>Internal revenue services in receiving my in F...</td>\n      <td>1</td>\n      <td>39.0</td>\n      <td>It was 8 years ago that I last pay income tax..</td>\n      <td>It is a lonely feeling that I have to pay taxes.</td>\n      <td>It seem that I pay over 20% on income taxes.</td>\n      <td>...</td>\n      <td>4</td>\n      <td>4</td>\n      <td>3</td>\n      <td>3</td>\n      <td>1</td>\n      <td>44</td>\n      <td>19</td>\n      <td>2.0</td>\n      <td>2.0</td>\n      <td>0.876566</td>\n    </tr>\n    <tr>\n      <th>4</th>\n      <td>New York</td>\n      <td>2</td>\n      <td>2.0</td>\n      <td>NaN</td>\n      <td>money that comes out of your income to cover c...</td>\n      <td>1</td>\n      <td>60.0</td>\n      <td>sales tax when purchasing clothing</td>\n      <td>necessary expense</td>\n      <td>sales, utilitiy</td>\n      <td>...</td>\n      <td>3</td>\n      <td>3</td>\n      <td>1</td>\n      <td>2</td>\n      <td>3</td>\n      <td>33</td>\n      <td>15</td>\n      <td>NaN</td>\n      <td>NaN</td>\n      <td>1.927818</td>\n    </tr>\n  </tbody>\n</table>\n<p>5 rows × 42 columns</p>\n</div>"
     },
     "execution_count": 21,
     "metadata": {},
     "output_type": "execute_result"
    }
   ],
   "source": [
    "dataset = pd.read_csv(\"Q14_survey_for_dataverse.csv\", encoding='ISO-8859-1')\n",
    "dataset.head()"
   ],
   "metadata": {
    "collapsed": false
   }
  },
  {
   "cell_type": "code",
   "execution_count": 18,
   "outputs": [
    {
     "data": {
      "text/plain": "0    0.0000\n1    0.2732\n2   -0.5267\n3    0.0000\n4    0.2732\nName: firstthought, dtype: float64"
     },
     "execution_count": 18,
     "metadata": {},
     "output_type": "execute_result"
    }
   ],
   "source": [
    "dataset[\"firstthought\"].apply(lambda row: vader.polarity_scores(row)['compound']).head()"
   ],
   "metadata": {
    "collapsed": false
   }
  },
  {
   "cell_type": "code",
   "execution_count": 19,
   "outputs": [],
   "source": [
    "def get_sentiment(score):\n",
    "    \"\"\"\n",
    "    function that returns the sentiment :\n",
    "        . -1 -> negative sentiment\n",
    "        .  0 -> neutral sentiment\n",
    "        .  1 -> positive sentiment\n",
    "    :param score: float\n",
    "    :return: int\n",
    "    \"\"\"\n",
    "    if score <= -0.05:\n",
    "        return -1\n",
    "    elif score >= 0.05:\n",
    "        return 1\n",
    "    else:\n",
    "        return 0"
   ],
   "metadata": {
    "collapsed": false
   }
  },
  {
   "cell_type": "code",
   "execution_count": 20,
   "outputs": [
    {
     "data": {
      "text/plain": "0    0\n1    1\n2   -1\n3    0\n4    1\nName: firstthought, dtype: int64"
     },
     "execution_count": 20,
     "metadata": {},
     "output_type": "execute_result"
    }
   ],
   "source": [
    "dataset[\"firstthought\"].apply(lambda row: vader.polarity_scores(row)['compound'])\\\n",
    "    .apply(get_sentiment).head()"
   ],
   "metadata": {
    "collapsed": false
   }
  },
  {
   "cell_type": "code",
   "execution_count": 10,
   "outputs": [],
   "source": [
    "dataset[\"firstthought_sentiment\"] = dataset[\"firstthought\"].apply(lambda row: vader.polarity_scores(row)['compound'])\\\n",
    "    .apply(get_sentiment)"
   ],
   "metadata": {
    "collapsed": false
   }
  },
  {
   "cell_type": "code",
   "execution_count": 16,
   "outputs": [
    {
     "data": {
      "text/plain": "0      1\n1      1\n2      1\n3     -1\n4      0\n      ..\n995    1\n996   -1\n997    0\n998   -1\n999    0\nName: tpfeel, Length: 1000, dtype: int64"
     },
     "execution_count": 16,
     "metadata": {},
     "output_type": "execute_result"
    }
   ],
   "source": [
    "dataset[\"tpfeel_sentiment\"] = dataset[\"tpfeel\"].apply(lambda row: vader.polarity_scores(str(row))[\"compound\"])\\\n",
    "    .apply(get_sentiment)"
   ],
   "metadata": {
    "collapsed": false
   }
  },
  {
   "cell_type": "code",
   "execution_count": 26,
   "outputs": [
    {
     "data": {
      "text/plain": "                                                glad  \\\n0  Fixing roads that need to be repaired and heal...   \n1                        roads, police, firefighters   \n2  As I said earlier, keeping the streets plowed ...   \n3          That I am receiving disability right now.   \n4                  fire, education, police, highways   \n\n                                               upset  \n0  People that abuse the system and take advantag...  \n1  I don't think my legislators should be voting ...  \n2  Just about everything which is taxed except fo...  \n3                       Right now, nothing right now  \n4              why be upset, doesn't change anything  ",
      "text/html": "<div>\n<style scoped>\n    .dataframe tbody tr th:only-of-type {\n        vertical-align: middle;\n    }\n\n    .dataframe tbody tr th {\n        vertical-align: top;\n    }\n\n    .dataframe thead th {\n        text-align: right;\n    }\n</style>\n<table border=\"1\" class=\"dataframe\">\n  <thead>\n    <tr style=\"text-align: right;\">\n      <th></th>\n      <th>glad</th>\n      <th>upset</th>\n    </tr>\n  </thead>\n  <tbody>\n    <tr>\n      <th>0</th>\n      <td>Fixing roads that need to be repaired and heal...</td>\n      <td>People that abuse the system and take advantag...</td>\n    </tr>\n    <tr>\n      <th>1</th>\n      <td>roads, police, firefighters</td>\n      <td>I don't think my legislators should be voting ...</td>\n    </tr>\n    <tr>\n      <th>2</th>\n      <td>As I said earlier, keeping the streets plowed ...</td>\n      <td>Just about everything which is taxed except fo...</td>\n    </tr>\n    <tr>\n      <th>3</th>\n      <td>That I am receiving disability right now.</td>\n      <td>Right now, nothing right now</td>\n    </tr>\n    <tr>\n      <th>4</th>\n      <td>fire, education, police, highways</td>\n      <td>why be upset, doesn't change anything</td>\n    </tr>\n  </tbody>\n</table>\n</div>"
     },
     "execution_count": 26,
     "metadata": {},
     "output_type": "execute_result"
    }
   ],
   "source": [
    "dataset[[\"glad\", \"upset\"]].head()"
   ],
   "metadata": {
    "collapsed": false
   }
  },
  {
   "cell_type": "code",
   "execution_count": 27,
   "outputs": [
    {
     "data": {
      "text/plain": "0     -1\n1     -1\n2      0\n3      0\n4     -1\n      ..\n995   -1\n996    0\n997    1\n998   -1\n999   -1\nName: upset, Length: 1000, dtype: int64"
     },
     "execution_count": 27,
     "metadata": {},
     "output_type": "execute_result"
    }
   ],
   "source": [
    "dataset[\"upset\"].apply(lambda row: vader.polarity_scores(str(row))[\"compound\"])\\\n",
    "    .apply(get_sentiment)"
   ],
   "metadata": {
    "collapsed": false
   }
  },
  {
   "cell_type": "code",
   "execution_count": 33,
   "outputs": [],
   "source": [
    "dataset[\"benefit_sentiment\"] = dataset[\"benefit\"].apply(lambda row: vader.polarity_scores(str(row))[\"compound\"])\\\n",
    "    .apply(get_sentiment)"
   ],
   "metadata": {
    "collapsed": false
   }
  },
  {
   "cell_type": "code",
   "execution_count": 32,
   "outputs": [
    {
     "data": {
      "text/plain": "{'neg': 0.0, 'neu': 0.0, 'pos': 0.0, 'compound': 0.0}"
     },
     "execution_count": 32,
     "metadata": {},
     "output_type": "execute_result"
    }
   ],
   "source": [
    "vader.polarity_scores(\"\")"
   ],
   "metadata": {
    "collapsed": false
   }
  },
  {
   "cell_type": "code",
   "execution_count": 34,
   "outputs": [],
   "source": [
    "dataset[\"eitcthink_sentiment\"] = dataset[\"eitcthink\"].apply(lambda row: vader.polarity_scores(str(row))[\"compound\"])\\\n",
    "    .apply(get_sentiment)"
   ],
   "metadata": {
    "collapsed": false
   }
  },
  {
   "cell_type": "code",
   "execution_count": 36,
   "outputs": [],
   "source": [
    "dataset.to_csv(\"dataset.csv\", index=False)"
   ],
   "metadata": {
    "collapsed": false
   }
  }
 ],
 "metadata": {
  "kernelspec": {
   "display_name": "Python 3",
   "language": "python",
   "name": "python3"
  },
  "language_info": {
   "codemirror_mode": {
    "name": "ipython",
    "version": 2
   },
   "file_extension": ".py",
   "mimetype": "text/x-python",
   "name": "python",
   "nbconvert_exporter": "python",
   "pygments_lexer": "ipython2",
   "version": "2.7.6"
  }
 },
 "nbformat": 4,
 "nbformat_minor": 0
}
